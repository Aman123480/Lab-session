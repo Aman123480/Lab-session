{
 "cells": [
  {
   "cell_type": "markdown",
   "metadata": {
    "id": "F6px4MSR51Gu"
   },
   "source": [
    "### NumPy Exercises\n",
    "##### Now that we've learned about NumPy let's test your knowledge. We'll start off with a few simple tasks and then you'll be asked some more complicated questions.\n",
    "##### IMPORTANT NOTE! Make sure you don't run the cells directly above the example output shown, otherwise you will end up writing over the example output!"
   ]
  },
  {
   "cell_type": "code",
   "execution_count": 8,
   "metadata": {
    "id": "Qe-tLGBa2sNS"
   },
   "outputs": [],
   "source": [
    "import numpy as np"
   ]
  },
  {
   "cell_type": "markdown",
   "metadata": {
    "id": "TAAoEMyE6bj6"
   },
   "source": [
    "#####1.  Write a NumPy program to create an array of 10 zeros,10 ones, 10 fives."
   ]
  },
  {
   "cell_type": "code",
   "execution_count": 17,
   "metadata": {
    "id": "_BxASjIo6B1X"
   },
   "outputs": [
    {
     "name": "stdout",
     "output_type": "stream",
     "text": [
      "array of ten zeros:\n",
      " [0. 0. 0. 0. 0. 0. 0. 0. 0. 0.]\n"
     ]
    }
   ],
   "source": [
    "import numpy as np\n",
    "print(\"array of ten zeros:\\n\",np.zeros(10))"
   ]
  },
  {
   "cell_type": "code",
   "execution_count": 18,
   "metadata": {},
   "outputs": [
    {
     "name": "stdout",
     "output_type": "stream",
     "text": [
      "array of ten ones:\n",
      " [1. 1. 1. 1. 1. 1. 1. 1. 1. 1.]\n"
     ]
    }
   ],
   "source": [
    "import numpy as np\n",
    "print(\"array of ten ones:\\n\",np.ones(10))"
   ]
  },
  {
   "cell_type": "code",
   "execution_count": 25,
   "metadata": {},
   "outputs": [
    {
     "name": "stdout",
     "output_type": "stream",
     "text": [
      "array of ten fives:\n",
      " [5. 5. 5. 5. 5. 5. 5. 5. 5. 5.]\n"
     ]
    }
   ],
   "source": [
    "import numpy as np\n",
    "print(\"array of ten fives:\\n\", np.ones(10)*5)"
   ]
  },
  {
   "cell_type": "markdown",
   "metadata": {
    "id": "6gbrDc0_6ja8"
   },
   "source": [
    "#####2.  Write a NumPy program to create an array of the integers from 30 to 70."
   ]
  },
  {
   "cell_type": "code",
   "execution_count": 51,
   "metadata": {
    "id": "Rrdz7C556B4Y"
   },
   "outputs": [
    {
     "name": "stdout",
     "output_type": "stream",
     "text": [
      "arrays of intergers 30 to 70:\n",
      " [30 31 32 33 34 35 36 37 38 39 40 41 42 43 44 45 46 47 48 49 50 51 52 53\n",
      " 54 55 56 57 58 59 60 61 62 63 64 65 66 67 68 69 70]\n"
     ]
    }
   ],
   "source": [
    "a=np.arange(30,71)\n",
    "print(\"arrays of intergers 30 to 70:\\n\",a)"
   ]
  },
  {
   "cell_type": "markdown",
   "metadata": {
    "id": "-1Z-hSI66oXd"
   },
   "source": [
    "######3. Write a NumPy program to create an array of all the even integers from 10 to 50."
   ]
  },
  {
   "cell_type": "code",
   "execution_count": 53,
   "metadata": {
    "id": "-TwKGj2o6nBV"
   },
   "outputs": [
    {
     "name": "stdout",
     "output_type": "stream",
     "text": [
      "arrays of all even integers 10 to 50:\n",
      " [10 12 14 16 18 20 22 24 26 28 30 32 34 36 38 40 42 44 46 48 50]\n"
     ]
    }
   ],
   "source": [
    "a=np.arange(10,51,2)\n",
    "print(\"arrays of all even integers 10 to 50:\\n\",a)"
   ]
  },
  {
   "cell_type": "markdown",
   "metadata": {
    "id": "av8golKd6z8l"
   },
   "source": [
    "######4. Write a NumPy program to create a 3x3 identity matrix."
   ]
  },
  {
   "cell_type": "code",
   "execution_count": 60,
   "metadata": {
    "id": "A4oaHF5L6nDB"
   },
   "outputs": [
    {
     "name": "stdout",
     "output_type": "stream",
     "text": [
      "identity matrix 3*3\n",
      " [[1. 0. 0.]\n",
      " [0. 1. 0.]\n",
      " [0. 0. 1.]]\n"
     ]
    }
   ],
   "source": [
    "a=np.eye(3)\n",
    "print(\"identity matrix 3*3\\n\",a)"
   ]
  },
  {
   "cell_type": "markdown",
   "metadata": {
    "id": "bmfuxShM-nvi"
   },
   "source": [
    "##### 5. Write a NumPy program to generate a random number between 0 and 1"
   ]
  },
  {
   "cell_type": "code",
   "execution_count": 70,
   "metadata": {
    "id": "ufPWx-Bo6nFv"
   },
   "outputs": [
    {
     "name": "stdout",
     "output_type": "stream",
     "text": [
      "random numbers between 0 and 1:\n",
      " [0.6760351]\n"
     ]
    }
   ],
   "source": [
    "a=np.random.rand(1)\n",
    "print(\"random numbers between 0 and 1:\\n\",a)"
   ]
  },
  {
   "cell_type": "markdown",
   "metadata": {
    "id": "hm-lJXi--3px"
   },
   "source": [
    "###### 6. Write a NumPy program to generate an array of 15 random numbers from a standard normal distribution."
   ]
  },
  {
   "cell_type": "code",
   "execution_count": 75,
   "metadata": {
    "id": "tFPEvuTr6nMg"
   },
   "outputs": [
    {
     "name": "stdout",
     "output_type": "stream",
     "text": [
      "15 random numbers from a standard normal distribution:\n",
      " [[0.5829061  0.05527323 0.79598558 0.13200071 0.15923676 0.669166\n",
      "  0.93587305 0.50112883 0.65463782 0.0451872  0.7260871  0.72233471\n",
      "  0.71878541 0.0397161  0.2072777 ]]\n"
     ]
    }
   ],
   "source": [
    "a=np.random.rand(1,15)\n",
    "#a=np.random.normal(0,1,15)\n",
    "print(\"15 random numbers from a standard normal distribution:\\n\",a)"
   ]
  },
  {
   "cell_type": "markdown",
   "metadata": {
    "id": "UIMv6m1t_G7q"
   },
   "source": [
    "###### 7. Write a NumPy program to create a 3X4 array using and iterate over it."
   ]
  },
  {
   "cell_type": "code",
   "execution_count": 108,
   "metadata": {},
   "outputs": [
    {
     "name": "stdout",
     "output_type": "stream",
     "text": [
      "Original array:\n",
      "[[10 11 12 13]\n",
      " [14 15 16 17]\n",
      " [18 19 20 21]]\n",
      "Each element of the array is:\n",
      "10 11 12 13 14 15 16 17 18 19 20 21 "
     ]
    }
   ],
   "source": [
    "import numpy as np\n",
    "a = np.arange(10,22).reshape((3, 4))\n",
    "print(\"Original array:\")\n",
    "print(a)\n",
    "print(\"Each element of the array is:\")\n",
    "for x in np.nditer(a):\n",
    "    print(x,end=\" \")"
   ]
  },
  {
   "cell_type": "markdown",
   "metadata": {
    "id": "pMshtaUT_fT0"
   },
   "source": [
    "###### 8. Write a NumPy program to multiply the values ​​of two given vectors."
   ]
  },
  {
   "cell_type": "code",
   "execution_count": 105,
   "metadata": {
    "id": "hD8Uk9J0_JxY"
   },
   "outputs": [
    {
     "name": "stdout",
     "output_type": "stream",
     "text": [
      "Vector-1 \n",
      " [1 8 3 5]\n",
      "Vector-2\n",
      " [10  1  4 10]\n",
      "Multiply the values of two said vectors: \n",
      " [10  8 12 50]\n"
     ]
    }
   ],
   "source": [
    "a=np.array([1,8,3,5])\n",
    "b=np.array([10,1,4,10])\n",
    "c=a*b\n",
    "print(\"Vector-1 \\n\", a)\n",
    "print(\"Vector-2\\n\", b)\n",
    "print(\"Multiply the values of two said vectors: \\n\", c)"
   ]
  },
  {
   "cell_type": "markdown",
   "metadata": {
    "id": "h7ny_Xci_07Q"
   },
   "source": [
    "###### 9. Write a NumPy program to reverse an array (first element becomes last)."
   ]
  },
  {
   "cell_type": "code",
   "execution_count": 119,
   "metadata": {
    "id": "CQZLCU4Z_J0M"
   },
   "outputs": [
    {
     "name": "stdout",
     "output_type": "stream",
     "text": [
      "Original array:\n",
      " [12 13 14 15 16 17 18 19 20 21 22 23 24 25 26 27 28 29 30 31 32 33 34 35\n",
      " 36 37]\n",
      "Reverse array: \n",
      " [37 36 35 34 33 32 31 30 29 28 27 26 25 24 23 22 21 20 19 18 17 16 15 14\n",
      " 13 12]\n"
     ]
    }
   ],
   "source": [
    "a=np.arange(12,38)\n",
    "print(\"Original array:\\n\", a)\n",
    "b=a[::-1]\n",
    "print(\"Reverse array: \\n\",b)"
   ]
  },
  {
   "cell_type": "markdown",
   "metadata": {
    "id": "-y0LYMweAC3M"
   },
   "source": [
    "##### 10. Write a NumPy program to create a 5x5 zero matrix with elements on the main diagonal equal to 1, 2, 3, 4, 5."
   ]
  },
  {
   "cell_type": "code",
   "execution_count": 122,
   "metadata": {
    "id": "nJnstERf_J5T"
   },
   "outputs": [
    {
     "data": {
      "text/plain": [
       "array([[1, 0, 0, 0, 0],\n",
       "       [0, 2, 0, 0, 0],\n",
       "       [0, 0, 3, 0, 0],\n",
       "       [0, 0, 0, 4, 0],\n",
       "       [0, 0, 0, 0, 5]])"
      ]
     },
     "execution_count": 122,
     "metadata": {},
     "output_type": "execute_result"
    }
   ],
   "source": [
    "#np.eye(5)\n",
    "np.diag([1,2,3,4,5])"
   ]
  },
  {
   "cell_type": "markdown",
   "metadata": {
    "id": "h7nmiqKNAYH1"
   },
   "source": [
    "###### 11. Write a NumPy program to compute sum of all elements, sum of each column and sum of each row of a given array."
   ]
  },
  {
   "cell_type": "code",
   "execution_count": 123,
   "metadata": {
    "id": "zWHfl9BS_J-a"
   },
   "outputs": [
    {
     "name": "stdout",
     "output_type": "stream",
     "text": [
      "Original array: \n",
      " [[0 1]\n",
      " [2 3]]\n",
      "Sum of all elements:\n",
      " 6\n",
      "Sum of each column: \n",
      " [2 4]\n",
      "Sum of each row:\n",
      " [1 5]\n"
     ]
    }
   ],
   "source": [
    "a=np.array([[0,1],[2,3]])\n",
    "print(\"Original array: \\n\", a)\n",
    "print(\"Sum of all elements:\\n\",np.sum(a))\n",
    "print(\"Sum of each column: \\n\",np.sum(a,axis=0))\n",
    "print(\"Sum of each row:\\n\",np.sum(a,axis=1))## code here"
   ]
  },
  {
   "cell_type": "markdown",
   "metadata": {
    "id": "4JSLT9ImAnKn"
   },
   "source": [
    "###### 12. Write a NumPy program to compute the inner product of two given vectors."
   ]
  },
  {
   "cell_type": "code",
   "execution_count": 124,
   "metadata": {
    "id": "uriWC5FSAp_N"
   },
   "outputs": [
    {
     "name": "stdout",
     "output_type": "stream",
     "text": [
      "Original vectors: \n",
      " [4 5] \n",
      " [ 7 10]\n",
      "Inner product of said vectors: \n",
      " 78\n"
     ]
    }
   ],
   "source": [
    "a=np.array([4,5])\n",
    "b=np.array([7,10])\n",
    "c=np.dot(a,b)\n",
    "print(\"Original vectors: \\n\",a,\"\\n\",b)\n",
    "print(\"Inner product of said vectors: \\n\",c)"
   ]
  }
 ],
 "metadata": {
  "colab": {
   "collapsed_sections": [],
   "name": "Numpy_assignment_day_1.ipynb",
   "provenance": []
  },
  "kernelspec": {
   "display_name": "Python 3 (ipykernel)",
   "language": "python",
   "name": "python3"
  },
  "language_info": {
   "codemirror_mode": {
    "name": "ipython",
    "version": 3
   },
   "file_extension": ".py",
   "mimetype": "text/x-python",
   "name": "python",
   "nbconvert_exporter": "python",
   "pygments_lexer": "ipython3",
   "version": "3.9.7"
  }
 },
 "nbformat": 4,
 "nbformat_minor": 1
}
