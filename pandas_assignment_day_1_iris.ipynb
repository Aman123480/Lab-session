{
 "cells": [
  {
   "cell_type": "markdown",
   "metadata": {
    "id": "zRhUEkBeS8Qg"
   },
   "source": [
    "##### step 1. load the iris.csv dataset."
   ]
  },
  {
   "cell_type": "markdown",
   "metadata": {
    "id": "5WVght9dU2YI"
   },
   "source": [
    "##### 1. Write a Pandas program to get the data types of the given csv data (iris.csv ) fields"
   ]
  },
  {
   "cell_type": "code",
   "execution_count": null,
   "metadata": {},
   "outputs": [],
   "source": [
    "Impo"
   ]
  },
  {
   "cell_type": "markdown",
   "metadata": {
    "id": "dYxlvzWmVaDn"
   },
   "source": [
    "##### 2. Write a Pandas program to find the sum, mean, max, min value of 'SepalLengthCm' column of dataframe"
   ]
  },
  {
   "cell_type": "code",
   "execution_count": null,
   "metadata": {},
   "outputs": [],
   "source": []
  },
  {
   "cell_type": "code",
   "execution_count": null,
   "metadata": {
    "id": "xtg3dV8IVBbv"
   },
   "outputs": [],
   "source": [
    "### code here"
   ]
  },
  {
   "cell_type": "markdown",
   "metadata": {
    "id": "HIpADOFWVzAp"
   },
   "source": [
    "##### 3. Write a Pandas program to import iris data and skipping first twenty rows into a Pandas dataframe."
   ]
  },
  {
   "cell_type": "code",
   "execution_count": null,
   "metadata": {
    "id": "KeHypbxwVBZv"
   },
   "outputs": [],
   "source": [
    "### code here"
   ]
  },
  {
   "cell_type": "markdown",
   "metadata": {
    "id": "5c1VVMH5XX9Q"
   },
   "source": [
    "##### 4. Write a Pandas program to display the last ten rows."
   ]
  },
  {
   "cell_type": "code",
   "execution_count": null,
   "metadata": {
    "id": "DK0goSHbVBXY"
   },
   "outputs": [],
   "source": [
    "### code here"
   ]
  },
  {
   "cell_type": "markdown",
   "metadata": {
    "id": "sx3NPmvWqRy7"
   },
   "source": [
    "##### 5. Write a Pandas program to create a subtotal of \"PetalLengthCm\" against Species from the dataframe."
   ]
  },
  {
   "cell_type": "code",
   "execution_count": null,
   "metadata": {
    "id": "npM5YkvmVBUq"
   },
   "outputs": [],
   "source": [
    "### code here"
   ]
  },
  {
   "cell_type": "markdown",
   "metadata": {
    "id": "8myKwnrF0GN9"
   },
   "source": [
    "###### 6. Write a Pandas program to find details where \"PetalLengthCm\" > 2."
   ]
  },
  {
   "cell_type": "code",
   "execution_count": null,
   "metadata": {
    "id": "jWT0-GwAVBRv"
   },
   "outputs": [],
   "source": [
    "### code here"
   ]
  },
  {
   "cell_type": "markdown",
   "metadata": {
    "id": "WCta-n7U1Ef1"
   },
   "source": [
    "###### 7. Write a Pandas program find all records that include two specific Species."
   ]
  },
  {
   "cell_type": "code",
   "execution_count": null,
   "metadata": {
    "id": "K5zedfE41A2o"
   },
   "outputs": [],
   "source": [
    "### code here"
   ]
  },
  {
   "cell_type": "markdown",
   "metadata": {
    "id": "DrpeEJM03tFN"
   },
   "source": [
    "###### 8.  Write a Pandas program to sort the records by the SepalLengthCm column."
   ]
  },
  {
   "cell_type": "code",
   "execution_count": null,
   "metadata": {
    "id": "ehux85DE1A5X"
   },
   "outputs": [],
   "source": [
    "### code here"
   ]
  },
  {
   "cell_type": "markdown",
   "metadata": {
    "id": "UwQsG2jR4FmW"
   },
   "source": [
    "##### 9. Write a Pandas program to insert a column in the sixth position of dataframe and fill it with NaN values."
   ]
  },
  {
   "cell_type": "code",
   "execution_count": null,
   "metadata": {
    "id": "yOz2qr4o1A7-"
   },
   "outputs": [],
   "source": [
    "### code here"
   ]
  },
  {
   "cell_type": "markdown",
   "metadata": {
    "id": "Noxk68HU5a4e"
   },
   "source": [
    "##### 10. Write a Pandas program to add summation to a row of the dataframe."
   ]
  },
  {
   "cell_type": "code",
   "execution_count": null,
   "metadata": {
    "id": "Z0gJpEJa1A-a"
   },
   "outputs": [],
   "source": [
    "### code here"
   ]
  }
 ],
 "metadata": {
  "colab": {
   "name": "pandas_assignment_day_1_iris.ipynb",
   "provenance": []
  },
  "kernelspec": {
   "display_name": "Python 3 (ipykernel)",
   "language": "python",
   "name": "python3"
  },
  "language_info": {
   "codemirror_mode": {
    "name": "ipython",
    "version": 3
   },
   "file_extension": ".py",
   "mimetype": "text/x-python",
   "name": "python",
   "nbconvert_exporter": "python",
   "pygments_lexer": "ipython3",
   "version": "3.9.7"
  }
 },
 "nbformat": 4,
 "nbformat_minor": 1
}
