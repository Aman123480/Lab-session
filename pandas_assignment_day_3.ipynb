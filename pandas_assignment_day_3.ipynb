{
 "cells": [
  {
   "cell_type": "code",
   "execution_count": null,
   "metadata": {
    "id": "SzelgyB0FsQf"
   },
   "outputs": [],
   "source": [
    "import pandas as pd\n",
    "import numpy as np\n",
    "data  = {'name': ['Anastasia', 'Dima', 'Katherine', 'James', 'Emily', 'Michael', 'Matthew', 'Laura', 'Kevin', 'Jonas'],\n",
    "        'score': [12.5, 9, 16.5, np.nan, 9, 20, 14.5, np.nan, 8, 19],\n",
    "        'attempts': [1, 3, 2, 3, 2, 3, 1, 1, 2, 1],\n",
    "        'qualify': ['yes', 'no', 'yes', 'no', 'no', 'yes', 'yes', 'no', 'no', 'yes']}\n",
    "labels = ['a', 'b', 'c', 'd', 'e', 'f', 'g', 'h', 'i', 'j']"
   ]
  },
  {
   "cell_type": "markdown",
   "metadata": {
    "id": "bmqotkScF6nK"
   },
   "source": [
    "##### Write a Pandas program to create a dataframe by given dictionary and index as lables"
   ]
  },
  {
   "cell_type": "code",
   "execution_count": null,
   "metadata": {
    "id": "SpSpUAs4GAyp"
   },
   "outputs": [],
   "source": [
    "### code here"
   ]
  },
  {
   "cell_type": "markdown",
   "metadata": {
    "id": "5tZv1fW4GH85"
   },
   "source": [
    "##### 1. Write a Pandas program to sort the DataFrame first by 'name' in descending order, then by 'score' in ascending order"
   ]
  },
  {
   "cell_type": "code",
   "execution_count": null,
   "metadata": {
    "id": "WG9r8neaGAvk"
   },
   "outputs": [],
   "source": [
    "### code here"
   ]
  },
  {
   "cell_type": "markdown",
   "metadata": {
    "id": "UI3jsb0LGL8L"
   },
   "source": [
    "###### 2. Write a Pandas program to replace the 'qualify' column contains the values 'yes' and 'no' with True and False"
   ]
  },
  {
   "cell_type": "code",
   "execution_count": null,
   "metadata": {
    "id": "cTWwRf-MGAt0"
   },
   "outputs": [],
   "source": [
    "### code here"
   ]
  },
  {
   "cell_type": "markdown",
   "metadata": {
    "id": "Jmd2TTurGPW6"
   },
   "source": [
    "#####3. Write a Pandas program to delete the 'attempts' column from the DataFrame"
   ]
  },
  {
   "cell_type": "code",
   "execution_count": null,
   "metadata": {
    "id": "tunip-07GArs"
   },
   "outputs": [],
   "source": [
    "### code here"
   ]
  },
  {
   "cell_type": "markdown",
   "metadata": {
    "id": "pytvrGs3GWHj"
   },
   "source": [
    "##### 4. Write a Pandas program to insert a new column in existing DataFrame."
   ]
  },
  {
   "cell_type": "code",
   "execution_count": null,
   "metadata": {
    "id": "FEBd2rlkGAph"
   },
   "outputs": [],
   "source": [
    "### code here"
   ]
  },
  {
   "cell_type": "markdown",
   "metadata": {
    "id": "k7uTHxM7Gb01"
   },
   "source": [
    "##### 5. Write a Pandas program to change the name 'James' to 'Maxwell' in name column of the DataFrame."
   ]
  },
  {
   "cell_type": "code",
   "execution_count": null,
   "metadata": {
    "id": "9LOk5magGAmZ"
   },
   "outputs": [],
   "source": [
    "### code here"
   ]
  },
  {
   "cell_type": "markdown",
   "metadata": {
    "id": "eYEPFPB5i7Aa"
   },
   "source": [
    "##### 6. Write a Pandas program to rename columns of a given DataFrame"
   ]
  },
  {
   "cell_type": "code",
   "execution_count": null,
   "metadata": {
    "id": "9wniiqnsi1_Y"
   },
   "outputs": [],
   "source": [
    "### code here"
   ]
  },
  {
   "cell_type": "markdown",
   "metadata": {
    "id": "oG1UL2YQjCHb"
   },
   "source": [
    "##### 7. Write a Pandas program to convert the datatype of a given column (floats to ints)."
   ]
  },
  {
   "cell_type": "code",
   "execution_count": null,
   "metadata": {
    "id": "-uA_4KTOi2Bz"
   },
   "outputs": [],
   "source": [
    "### code here "
   ]
  },
  {
   "cell_type": "markdown",
   "metadata": {
    "id": "ak8tUSoRjJoK"
   },
   "source": [
    "###### 8.  Write a Pandas program to convert index in a column of the given dataframe. "
   ]
  },
  {
   "cell_type": "code",
   "execution_count": null,
   "metadata": {
    "id": "I04CWvPii2EY"
   },
   "outputs": [],
   "source": [
    "### code here "
   ]
  },
  {
   "cell_type": "markdown",
   "metadata": {
    "id": "I2aKjC0SjSVs"
   },
   "source": [
    "##### 9. Write a Pandas program to shuffle a DataFrame rows."
   ]
  },
  {
   "cell_type": "code",
   "execution_count": null,
   "metadata": {
    "id": "LA8GD0QGi2HE"
   },
   "outputs": [],
   "source": [
    "### code here"
   ]
  },
  {
   "cell_type": "markdown",
   "metadata": {
    "id": "Qe6YaPPujakS"
   },
   "source": [
    "##### 10 Write a Pandas program to write a DataFrame to CSV file using tab separator"
   ]
  },
  {
   "cell_type": "code",
   "execution_count": null,
   "metadata": {
    "id": "428Akc6Ki2J3"
   },
   "outputs": [],
   "source": [
    "### code here"
   ]
  },
  {
   "cell_type": "code",
   "execution_count": null,
   "metadata": {
    "id": "Ul1Pk5Nkjr1M"
   },
   "outputs": [],
   "source": []
  },
  {
   "cell_type": "code",
   "execution_count": null,
   "metadata": {
    "id": "vfDgKHpDjsNl"
   },
   "outputs": [],
   "source": []
  },
  {
   "cell_type": "code",
   "execution_count": null,
   "metadata": {
    "id": "bbPCO63eGr7r"
   },
   "outputs": [],
   "source": [
    "student_data1 = pd.DataFrame({\n",
    "        'student_id': ['S1', 'S2', 'S3', 'S4', 'S5'],\n",
    "         'name': ['Danniella Fenton', 'Ryder Storey', 'Bryce Jensen', 'Ed Bernal', 'Kwame Morin'], \n",
    "        'marks': [200, 210, 190, 222, 199]})\n",
    "\n",
    "student_data2 = pd.DataFrame({\n",
    "        'student_id': ['S4', 'S5', 'S6', 'S7', 'S8'],\n",
    "        'name': ['Scarlette Fisher', 'Carla Williamson', 'Dante Morse', 'Kaiser William', 'Madeeha Preston'], \n",
    "        'marks': [201, 200, 198, 219, 201]})"
   ]
  },
  {
   "cell_type": "markdown",
   "metadata": {
    "id": "DLz-hmmlzLTD"
   },
   "source": [
    "#####11. Write a Pandas program to join the two given dataframes along rows and assign all data."
   ]
  },
  {
   "cell_type": "code",
   "execution_count": null,
   "metadata": {
    "id": "21xLDGUMzKL4"
   },
   "outputs": [],
   "source": [
    "### code here"
   ]
  },
  {
   "cell_type": "markdown",
   "metadata": {
    "id": "37u4eXAozm5m"
   },
   "source": [
    "##### 12. Write a Pandas program to join the two given dataframes along columns and assign all data."
   ]
  },
  {
   "cell_type": "code",
   "execution_count": null,
   "metadata": {
    "id": "USytXbiXzKN8"
   },
   "outputs": [],
   "source": [
    "### code here"
   ]
  },
  {
   "cell_type": "markdown",
   "metadata": {
    "id": "OT0_4R9Hz75Q"
   },
   "source": [
    "##### 13. Write a Pandas program to join the two dataframes using the common column of both dataframes."
   ]
  },
  {
   "cell_type": "code",
   "execution_count": null,
   "metadata": {
    "id": "BXcQvrrtzKRZ"
   },
   "outputs": [],
   "source": [
    "### code here"
   ]
  },
  {
   "cell_type": "markdown",
   "metadata": {
    "id": "Dj90ddTu0PUF"
   },
   "source": [
    "###### 14. Write a Pandas program to join (left join) the two dataframes using keys from left dataframe only."
   ]
  },
  {
   "cell_type": "code",
   "execution_count": null,
   "metadata": {
    "id": "i15MuKO4z_rt"
   },
   "outputs": [],
   "source": [
    "#### code here"
   ]
  },
  {
   "cell_type": "markdown",
   "metadata": {
    "id": "UAtEru2h0TzT"
   },
   "source": [
    "###### 15. Write a Pandas program to join two dataframes using keys from right dataframe only."
   ]
  },
  {
   "cell_type": "code",
   "execution_count": null,
   "metadata": {
    "id": "RboFgy0kz_tU"
   },
   "outputs": [],
   "source": [
    "### code here"
   ]
  },
  {
   "cell_type": "code",
   "execution_count": null,
   "metadata": {
    "id": "AxYNmSqnkMEV"
   },
   "outputs": [],
   "source": []
  },
  {
   "cell_type": "code",
   "execution_count": null,
   "metadata": {
    "id": "UwWp4U9BkMHU"
   },
   "outputs": [],
   "source": []
  },
  {
   "cell_type": "markdown",
   "metadata": {
    "id": "RtrM2Rw6gHX6"
   },
   "source": [
    "###### import UFO dataset"
   ]
  },
  {
   "cell_type": "markdown",
   "metadata": {
    "id": "spB0fHQ6hGF0"
   },
   "source": [
    "######16. Write a Pandas program to create the todays date."
   ]
  },
  {
   "cell_type": "code",
   "execution_count": null,
   "metadata": {
    "id": "eH8bR6qjz_xK"
   },
   "outputs": [],
   "source": [
    "### code here"
   ]
  },
  {
   "cell_type": "markdown",
   "metadata": {
    "id": "7LKWRlyHhPaq"
   },
   "source": [
    "###### 17. Write a Pandas program to get the current date, oldest date and number of days between Current date and oldest date of Ufo dataset."
   ]
  },
  {
   "cell_type": "code",
   "execution_count": null,
   "metadata": {
    "id": "YaGaEGVRhIyO"
   },
   "outputs": [],
   "source": [
    "#### code here"
   ]
  },
  {
   "cell_type": "markdown",
   "metadata": {
    "id": "gwS-QG85hcZZ"
   },
   "source": [
    "###### 18. Write a Pandas program to get all the info of the dataframe between 1950-10-10 and 1960-10-10."
   ]
  },
  {
   "cell_type": "code",
   "execution_count": null,
   "metadata": {
    "id": "BdQSfqNThI1r"
   },
   "outputs": [],
   "source": [
    "### code here "
   ]
  },
  {
   "cell_type": "code",
   "execution_count": null,
   "metadata": {
    "id": "T19HD5xVhI4d"
   },
   "outputs": [],
   "source": []
  }
 ],
 "metadata": {
  "colab": {
   "collapsed_sections": [],
   "name": "pandas_assignment_day_3.ipynb",
   "provenance": []
  },
  "kernelspec": {
   "display_name": "Python 3 (ipykernel)",
   "language": "python",
   "name": "python3"
  },
  "language_info": {
   "codemirror_mode": {
    "name": "ipython",
    "version": 3
   },
   "file_extension": ".py",
   "mimetype": "text/x-python",
   "name": "python",
   "nbconvert_exporter": "python",
   "pygments_lexer": "ipython3",
   "version": "3.9.7"
  }
 },
 "nbformat": 4,
 "nbformat_minor": 1
}
