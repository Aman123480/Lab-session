{
 "cells": [
  {
   "cell_type": "markdown",
   "metadata": {
    "id": "UlTyvTnVDRXI"
   },
   "source": [
    "## 1. Create Python class named `Student` and display its type"
   ]
  },
  {
   "cell_type": "code",
   "execution_count": null,
   "metadata": {},
   "outputs": [],
   "source": [
    "class student:\n",
    "pass"
   ]
  },
  {
   "cell_type": "code",
   "execution_count": 26,
   "metadata": {},
   "outputs": [
    {
     "name": "stdout",
     "output_type": "stream",
     "text": [
      "<class 'type'>\n"
     ]
    }
   ],
   "source": [
    "print(type)"
   ]
  },
  {
   "cell_type": "markdown",
   "metadata": {
    "id": "nYjL6Efcx6ad"
   },
   "source": [
    "## 2. How to call a variable and function by creating a simple class\n"
   ]
  },
  {
   "cell_type": "code",
   "execution_count": 49,
   "metadata": {
    "colab": {
     "base_uri": "https://localhost:8080/"
    },
    "id": "2cVJl1pTyQtS",
    "outputId": "a490e4f4-11a8-44e4-fc4d-5fefcab06e34"
   },
   "outputs": [
    {
     "name": "stdout",
     "output_type": "stream",
     "text": [
      "This is Variable1\n",
      "I'm from function This is Variable1\n"
     ]
    }
   ],
   "source": [
    "class Dog:\n",
    "    def __init__(self):\n",
    "        self.d = 'This is Variable1'\n",
    "    def shizzu(self):\n",
    "        print(\"I'm from function\",self.d)\n",
    "adult=Dog()\n",
    "print(adult.d)\n",
    "adult.shizzu()"
   ]
  },
  {
   "cell_type": "markdown",
   "metadata": {
    "id": "Qrn6EsJ7putu"
   },
   "source": [
    "## 3. Create a class with one `static variable` and two `instace variables`"
   ]
  },
  {
   "cell_type": "code",
   "execution_count": 54,
   "metadata": {
    "colab": {
     "base_uri": "https://localhost:8080/"
    },
    "id": "D5z1cympyQwS",
    "outputId": "83f642f9-4867-498f-b8b7-6b39101339f7"
   },
   "outputs": [
    {
     "name": "stdout",
     "output_type": "stream",
     "text": [
      "I am Static variable\n",
      "instance_var1  \n",
      "instance_var2\n"
     ]
    }
   ],
   "source": [
    "class Demo():\n",
    "    arr = \"I am Static variable\"\n",
    "    def __init__ (self,aman,singh):\n",
    "        self.var1=aman\n",
    "        self.var2=singh\n",
    "d = Demo('instance_var1 ','\\ninstance_var2')\n",
    "print(d.arr)\n",
    "print(d.var1,d.var2)"
   ]
  },
  {
   "cell_type": "markdown",
   "metadata": {
    "id": "m2__2x3B_gub"
   },
   "source": [
    "## 4. Create a `Vehicle` class with max_speed and mileage instance attributes"
   ]
  },
  {
   "cell_type": "code",
   "execution_count": 73,
   "metadata": {
    "colab": {
     "base_uri": "https://localhost:8080/"
    },
    "id": "uTyOnoPN_qVJ",
    "outputId": "e4ed0414-9da1-4196-a802-41b39f455a3f"
   },
   "outputs": [],
   "source": [
    "class Vehicle:\n",
    "\n",
    "    def __init__(self, name, max_speed, mileage):\n",
    "        self.name = name\n",
    "        self.max_speed = max_speed\n",
    "        self.mileage = mileage\n",
    "        \n",
    "    def display(self):\n",
    "        print('name: {}, max_speed: {}, mileage: {}'.format(self.name, self.max_speed, self.mileage))"
   ]
  },
  {
   "cell_type": "code",
   "execution_count": 81,
   "metadata": {},
   "outputs": [
    {
     "name": "stdout",
     "output_type": "stream",
     "text": [
      "name: ferrari, max_speed: 240, mileage: 18\n"
     ]
    },
    {
     "data": {
      "text/plain": [
       "(240, 18)"
      ]
     },
     "execution_count": 81,
     "metadata": {},
     "output_type": "execute_result"
    }
   ],
   "source": [
    "v1 = Vehicle('ferrari', 240, 18)\n",
    "v1.display()\n",
    "v1.max_speed , v1.mileage"
   ]
  },
  {
   "cell_type": "markdown",
   "metadata": {
    "id": "dGGYG_Sm1N4y"
   },
   "source": [
    "## 5. Create a simple class `Person` with constructer and one argument `name`"
   ]
  },
  {
   "cell_type": "code",
   "execution_count": 82,
   "metadata": {
    "colab": {
     "base_uri": "https://localhost:8080/"
    },
    "id": "i5vQQoIu0X_f",
    "outputId": "2b8f7cd2-cb9d-43f2-afdf-8f20411ef6cc"
   },
   "outputs": [
    {
     "name": "stdout",
     "output_type": "stream",
     "text": [
      "Hello, my name is Ram\n"
     ]
    }
   ],
   "source": [
    "# A Sample class with init method\n",
    "class Person:\n",
    "    def __init__(self, name):\n",
    "        self.name = name\n",
    "  #  def display(self):\n",
    "  #      print('name: {}' .format(self.name))\n",
    "p = Person('Ram')\n",
    "print(\"Hello, my name is\",p.name)"
   ]
  },
  {
   "cell_type": "markdown",
   "metadata": {
    "id": "T9AQ6X3i2k6l"
   },
   "source": [
    "## 6. Create a class for `Students` information like `name, rollno, marks` and `school name` with static variable.\n",
    "- create a function for displaying student information\n",
    "- create one more function for getting students marks and percentage "
   ]
  },
  {
   "cell_type": "code",
   "execution_count": null,
   "metadata": {
    "colab": {
     "base_uri": "https://localhost:8080/"
    },
    "id": "cX4Z5_nx2h-O",
    "outputId": "5e032c7a-407b-455b-aef3-84b673a017ae"
   },
   "outputs": [
    {
     "name": "stdout",
     "output_type": "stream",
     "text": [
      "Name: abc, RollNo: 1, Marks: 399, College: DIT\n",
      "Dictionary :  {'name': 'abc', 'rno': 1, 'marks': 399}\n",
      "percentahe of 399 out of 500 is :  79.80000000000001\n"
     ]
    }
   ],
   "source": [
    "class Student:\n",
    "    school_name = \"HPS\"\n",
    "    def __init__(self,name,rollno,marks):\n",
    "        self.name=name\n",
    "        self.rollno=rollno\n",
    "        self.marks=marks\n",
    "        \n",
    "    def display(self):\n",
    "        print('name: {}, rollno: {}, marks: {}, school name: {}'.format(self.name, self.rollno, self.marks, self.school_name))\n",
    "    \n",
    "    def smarks(self):\n",
    "        print('Dictionary : ', self.__dict__)\n",
    "        print('percentage of', self.marks,  'out of 500 is', ((self.marks/500)*100))\n",
    "\n",
    "s1 = Student('Ram', 121, 451)\n",
    "s1.display()\n",
    "s1.smarks()\n"
   ]
  },
  {
   "cell_type": "markdown",
   "metadata": {
    "id": "x-zGvkOi_9PD"
   },
   "source": [
    "## 7. Create a child class `Bus` that will inherit all of the variables and methods of the `Vehicle` class"
   ]
  },
  {
   "cell_type": "code",
   "execution_count": 83,
   "metadata": {
    "colab": {
     "base_uri": "https://localhost:8080/"
    },
    "id": "Qf4ZRcg8ADOq",
    "outputId": "36f05d4e-d177-4b0a-f60d-85df44b22756"
   },
   "outputs": [
    {
     "name": "stdout",
     "output_type": "stream",
     "text": [
      "Vehicle Name: School Bus, Speed: 180, Mileage: 12\n"
     ]
    }
   ],
   "source": [
    "class Vehicle:\n",
    "    def __init__(self, Vehicle_Name, Speed, Mileage):\n",
    "        self.name = Vehicle_Name\n",
    "        self.speed = Speed\n",
    "        self.mileage = Mileage\n",
    "class Bus(Vehicle):\n",
    "    def __init__(self, Vehicle_Name, Speed, Mileage):\n",
    "        super().__init__(Vehicle_Name, Speed, Mileage)\n",
    "b=Bus(\"School Bus\", 180, 12 )\n",
    "print('Vehicle Name: {}, Speed: {}, Mileage: {}' .format(b.name, b.speed, b.mileage))"
   ]
  },
  {
   "cell_type": "markdown",
   "metadata": {
    "id": "Cex1VHlicvR0"
   },
   "source": [
    "## 8. Create a class `Employee` with two arguments `name and salary`\n",
    "- create a function which displays the employee information\n",
    "- Print total number of employees "
   ]
  },
  {
   "cell_type": "code",
   "execution_count": 85,
   "metadata": {
    "colab": {
     "base_uri": "https://localhost:8080/"
    },
    "id": "BcTNOVUiAIn7",
    "outputId": "eada07d0-cb16-4b0c-bdca-a1b360ad24b7"
   },
   "outputs": [
    {
     "name": "stdout",
     "output_type": "stream",
     "text": [
      "name :Zara, salary :50000\n",
      "name :Manni, salary :60000\n",
      "Totall Employee 2\n"
     ]
    }
   ],
   "source": [
    "class Employee:\n",
    "    count =0\n",
    "    def __init__(self, name, salary):\n",
    "        self.name = name\n",
    "        self.salary = salary\n",
    "        Employee.count +=1\n",
    "    def emp(self):\n",
    "        print('name :{}, salary :{}' .format(self.name, self.salary))\n",
    "e1=Employee('Zara',50000)\n",
    "e2=Employee('Manni', 60000)\n",
    "\n",
    "e1.emp()\n",
    "e2.emp()\n",
    "print(\"Totall Employee\",Employee.count)"
   ]
  }
 ],
 "metadata": {
  "colab": {
   "collapsed_sections": [],
   "name": "Class_Object_Asignment.ipynb",
   "provenance": []
  },
  "kernelspec": {
   "display_name": "Python 3 (ipykernel)",
   "language": "python",
   "name": "python3"
  },
  "language_info": {
   "codemirror_mode": {
    "name": "ipython",
    "version": 3
   },
   "file_extension": ".py",
   "mimetype": "text/x-python",
   "name": "python",
   "nbconvert_exporter": "python",
   "pygments_lexer": "ipython3",
   "version": "3.9.7"
  }
 },
 "nbformat": 4,
 "nbformat_minor": 1
}
