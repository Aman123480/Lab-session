{
 "cells": [
  {
   "cell_type": "markdown",
   "metadata": {
    "id": "vbBnPGyZkbtk"
   },
   "source": [
    "##### import the Diamond dataset"
   ]
  },
  {
   "cell_type": "markdown",
   "metadata": {
    "id": "0gLkJdTUlFsD"
   },
   "source": [
    "###### 1. Write a Pandas program to find the number of rows and columns and data type of each column of diamonds Dataframe."
   ]
  },
  {
   "cell_type": "code",
   "execution_count": null,
   "metadata": {
    "id": "9TQb1fhrHKGZ"
   },
   "outputs": [],
   "source": [
    "### code here"
   ]
  },
  {
   "cell_type": "markdown",
   "metadata": {
    "id": "2hCsz2QLmdFK"
   },
   "source": [
    "##### 2. Write a Pandas program to summarize only 'object' columns of the diamonds Dataframe."
   ]
  },
  {
   "cell_type": "code",
   "execution_count": null,
   "metadata": {
    "id": "yidnCTpKmcSV"
   },
   "outputs": [],
   "source": [
    "### code here"
   ]
  },
  {
   "cell_type": "markdown",
   "metadata": {
    "id": "MSQBTbT4mmOT"
   },
   "source": [
    "###### 3. Write a Pandas program to remove the second column of the diamonds Dataframe. (don't use original dataset)"
   ]
  },
  {
   "cell_type": "code",
   "execution_count": null,
   "metadata": {
    "id": "-KnxM5wZmcU9"
   },
   "outputs": [],
   "source": [
    "### code here"
   ]
  },
  {
   "cell_type": "markdown",
   "metadata": {
    "id": "ueDcExq4m76F"
   },
   "source": [
    "###### 4. Write a Pandas program to remove multiple rows at once (axis=0 refers to rows) from diamonds dataframe. (dont use original dataset)"
   ]
  },
  {
   "cell_type": "code",
   "execution_count": null,
   "metadata": {
    "id": "R5UWSmb8mcXd"
   },
   "outputs": [],
   "source": [
    "### code here"
   ]
  },
  {
   "cell_type": "markdown",
   "metadata": {
    "id": "1ivZW6tqnRKL"
   },
   "source": [
    "###### 5. Write a Pandas program to sort the 'cut' Series in ascending order (returns a Series) of diamonds Dataframe. "
   ]
  },
  {
   "cell_type": "code",
   "execution_count": null,
   "metadata": {
    "id": "KUgjKfuAmcZr"
   },
   "outputs": [],
   "source": [
    "### code here"
   ]
  },
  {
   "cell_type": "markdown",
   "metadata": {
    "id": "BCvcHa28nl7D"
   },
   "source": [
    "###### 6. Write a Pandas program to sort the entire diamonds DataFrame by the 'carat' Series in ascending and descending order."
   ]
  },
  {
   "cell_type": "code",
   "execution_count": null,
   "metadata": {
    "id": "GwfuqL1MmccL"
   },
   "outputs": [],
   "source": [
    "### code here"
   ]
  },
  {
   "cell_type": "markdown",
   "metadata": {
    "id": "cSpCOh8coK6r"
   },
   "source": [
    "###### 7. Write a Pandas program to filter the DataFrame rows to only show carat weight at least 0.3."
   ]
  },
  {
   "cell_type": "code",
   "execution_count": null,
   "metadata": {
    "id": "AgdZqV1Pmcey"
   },
   "outputs": [],
   "source": [
    "#### code here"
   ]
  },
  {
   "cell_type": "markdown",
   "metadata": {
    "id": "4FpU9oyLoXJs"
   },
   "source": [
    "###### 8.  Write a Pandas program to find the details of the diamonds where length>5, width>5 and depth>5."
   ]
  },
  {
   "cell_type": "code",
   "execution_count": null,
   "metadata": {
    "id": "XNKHLmjzmchr"
   },
   "outputs": [],
   "source": [
    "### code here "
   ]
  },
  {
   "cell_type": "markdown",
   "metadata": {
    "id": "y351ifPOp772"
   },
   "source": [
    "###### 9. Write a Pandas program to calculate the mean of each row of diamonds DataFrame."
   ]
  },
  {
   "cell_type": "code",
   "execution_count": null,
   "metadata": {
    "id": "cmcg9Jy0oazK"
   },
   "outputs": [],
   "source": [
    "### code here"
   ]
  },
  {
   "cell_type": "markdown",
   "metadata": {
    "id": "Gp_gDhj_qXm9"
   },
   "source": [
    "###### 10. Write a Pandas program to calculate the mean of price for each cut  and find maximum top 3 of diamonds DataFrame. "
   ]
  },
  {
   "cell_type": "code",
   "execution_count": null,
   "metadata": {
    "id": "0Ka1Xpaioa1s"
   },
   "outputs": [],
   "source": [
    "#### code here"
   ]
  },
  {
   "cell_type": "markdown",
   "metadata": {
    "id": "puSNBUFWqp6c"
   },
   "source": [
    "##### 11. Write a Pandas program to calculate count, minimum, maximum price for each cut of diamonds DataFrame."
   ]
  },
  {
   "cell_type": "code",
   "execution_count": null,
   "metadata": {
    "id": "6lviyQH7oa4W"
   },
   "outputs": [],
   "source": [
    "### code here"
   ]
  },
  {
   "cell_type": "markdown",
   "metadata": {
    "id": "4yylPeGNq0DV"
   },
   "source": [
    "###### 12. Write a Pandas program to display and count the unique values in cut series of diamonds DataFrame."
   ]
  },
  {
   "cell_type": "code",
   "execution_count": null,
   "metadata": {
    "id": "AZIo7d4zoa9c"
   },
   "outputs": [],
   "source": [
    "### code here"
   ]
  },
  {
   "cell_type": "markdown",
   "metadata": {
    "id": "Uc9HsMNOsZ-R"
   },
   "source": [
    "######13.  Write a Pandas program to count the number of missing values in each Series of diamonds DataFrame."
   ]
  },
  {
   "cell_type": "code",
   "execution_count": null,
   "metadata": {
    "id": "9IQdRGXEobAE"
   },
   "outputs": [],
   "source": [
    "### code here"
   ]
  },
  {
   "cell_type": "markdown",
   "metadata": {
    "id": "cTnyI4_0tdj0"
   },
   "source": [
    "###### 14. Write a Pandas program to calculate the multiply of x, y and z for each cut of diamonds DataFrame."
   ]
  },
  {
   "cell_type": "code",
   "execution_count": null,
   "metadata": {
    "id": "xb26UEm_obC8"
   },
   "outputs": [],
   "source": [
    "### code here"
   ]
  },
  {
   "cell_type": "markdown",
   "metadata": {
    "id": "BJBqso15t3mV"
   },
   "source": [
    "##### 15. Write a Pandas program to read rows 0 through 2 (inclusive), columns ‘color’ and ‘price’ of diamonds DataFrame."
   ]
  },
  {
   "cell_type": "code",
   "execution_count": null,
   "metadata": {
    "id": "IT5EQSs5obFr"
   },
   "outputs": [],
   "source": [
    "## code here"
   ]
  },
  {
   "cell_type": "markdown",
   "metadata": {
    "id": "9I0eio5nuFW9"
   },
   "source": [
    "###### 16. Write a Pandas program to read rows in positions 0 and 1, columns in positions 0 and 3 of diamonds DataFrame."
   ]
  },
  {
   "cell_type": "code",
   "execution_count": null,
   "metadata": {
    "id": "fYJL0uu2tlD6"
   },
   "outputs": [],
   "source": [
    "### code here"
   ]
  },
  {
   "cell_type": "markdown",
   "metadata": {
    "id": "hKD0G8KDuTWW"
   },
   "source": [
    "##### 17. Write a Pandas program to get randomly sample rows from diamonds DataFrame."
   ]
  },
  {
   "cell_type": "code",
   "execution_count": null,
   "metadata": {
    "id": "8sVNHGChtlG0"
   },
   "outputs": [],
   "source": [
    "### code here"
   ]
  },
  {
   "cell_type": "markdown",
   "metadata": {
    "id": "0hRG6-8Fugsl"
   },
   "source": [
    "###### 18. Write a Pandas program to get sample 75% of the diamonds DataFrame's rows without replacement and store the remaining 25% of the rows in another DataFrame."
   ]
  },
  {
   "cell_type": "code",
   "execution_count": null,
   "metadata": {
    "id": "WRrlJ3gwtlJv"
   },
   "outputs": [],
   "source": [
    "### code here"
   ]
  },
  {
   "cell_type": "markdown",
   "metadata": {
    "id": "R4cLt_TIu4rF"
   },
   "source": [
    "###### 19. Write a Pandas program to read the diamonds DataFrame and detect duplicate color."
   ]
  },
  {
   "cell_type": "code",
   "execution_count": null,
   "metadata": {
    "id": "I0LQz9SkmckP"
   },
   "outputs": [],
   "source": [
    "#### code here"
   ]
  },
  {
   "cell_type": "markdown",
   "metadata": {
    "id": "w1vDKDHcu8s_"
   },
   "source": [
    "###### 20. Write a Pandas program to count the duplicate rows of diamonds DataFrame."
   ]
  },
  {
   "cell_type": "code",
   "execution_count": null,
   "metadata": {
    "id": "izBTT7LiuyKL"
   },
   "outputs": [],
   "source": [
    "#### code here"
   ]
  },
  {
   "cell_type": "code",
   "execution_count": null,
   "metadata": {
    "id": "1DxLqGeOuyM_"
   },
   "outputs": [],
   "source": []
  }
 ],
 "metadata": {
  "colab": {
   "collapsed_sections": [],
   "name": "pandas_assignment_day_4.ipynb",
   "provenance": []
  },
  "kernelspec": {
   "display_name": "Python 3 (ipykernel)",
   "language": "python",
   "name": "python3"
  },
  "language_info": {
   "codemirror_mode": {
    "name": "ipython",
    "version": 3
   },
   "file_extension": ".py",
   "mimetype": "text/x-python",
   "name": "python",
   "nbconvert_exporter": "python",
   "pygments_lexer": "ipython3",
   "version": "3.9.7"
  }
 },
 "nbformat": 4,
 "nbformat_minor": 1
}
