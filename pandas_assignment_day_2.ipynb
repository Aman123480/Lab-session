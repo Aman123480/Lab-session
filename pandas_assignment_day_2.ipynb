{
 "cells": [
  {
   "cell_type": "code",
   "execution_count": null,
   "metadata": {
    "id": "bhTOLbs_Ehm9"
   },
   "outputs": [],
   "source": [
    "import pandas as pd\n",
    "import numpy as np\n",
    "data  = {'name': ['Anastasia', 'Dima', 'Katherine', 'James', 'Emily', 'Michael', 'Matthew', 'Laura', 'Kevin', 'Jonas'],\n",
    "        'score': [12.5, 9, 16.5, np.nan, 9, 20, 14.5, np.nan, 8, 19],\n",
    "        'attempts': [1, 3, 2, 3, 2, 3, 1, 1, 2, 1],\n",
    "        'qualify': ['yes', 'no', 'yes', 'no', 'no', 'yes', 'yes', 'no', 'no', 'yes']}\n",
    "labels = ['a', 'b', 'c', 'd', 'e', 'f', 'g', 'h', 'i', 'j']"
   ]
  },
  {
   "cell_type": "markdown",
   "metadata": {
    "id": "9vjkZPeWEvHd"
   },
   "source": [
    "##### Write a Pandas program to create a dataframe by given dictionary and index as lables"
   ]
  },
  {
   "cell_type": "markdown",
   "metadata": {
    "id": "OiZKZd1uE017"
   },
   "source": [
    "##### 1. Write a Pandas program to select the rows where the score is missing, i.e. is NaN"
   ]
  },
  {
   "cell_type": "code",
   "execution_count": null,
   "metadata": {
    "id": "9qv74kyIEp2y"
   },
   "outputs": [],
   "source": [
    "### code here"
   ]
  },
  {
   "cell_type": "markdown",
   "metadata": {
    "id": "B8dwwn9kE81J"
   },
   "source": [
    "##### 2. Write a Pandas program to change the score in row 'd' to 11.5."
   ]
  },
  {
   "cell_type": "code",
   "execution_count": null,
   "metadata": {
    "id": "UdEjtX3vE7Bh"
   },
   "outputs": [],
   "source": [
    "### code here"
   ]
  },
  {
   "cell_type": "markdown",
   "metadata": {
    "id": "Okr3j2nRFDgB"
   },
   "source": [
    "##### 3. Write a Pandas program to select the 'name' and 'score' columns from the following DataFrame."
   ]
  },
  {
   "cell_type": "code",
   "execution_count": null,
   "metadata": {
    "id": "DGnRW94GE6-M"
   },
   "outputs": [],
   "source": [
    "#### code here"
   ]
  },
  {
   "cell_type": "markdown",
   "metadata": {
    "id": "J9AWes1qFHYB"
   },
   "source": [
    "##### 4.  Write a Pandas program to calculate the mean score for each different student in DataFrame."
   ]
  },
  {
   "cell_type": "code",
   "execution_count": null,
   "metadata": {
    "id": "bE7h0zxHE68K"
   },
   "outputs": [],
   "source": [
    "###  code here"
   ]
  },
  {
   "cell_type": "markdown",
   "metadata": {
    "id": "ehJpYB-4FQk5"
   },
   "source": [
    "##### 5. Write a Pandas program to append a new row 'k' to data frame with any value for each column. Now delete the row 'c' and return the original DataFrame."
   ]
  },
  {
   "cell_type": "code",
   "execution_count": null,
   "metadata": {
    "id": "V4Bk6ELVE66C"
   },
   "outputs": [],
   "source": [
    "### code here"
   ]
  },
  {
   "cell_type": "markdown",
   "metadata": {
    "id": "XNyWgnvzPJtB"
   },
   "source": [
    "###### import the titanic dataset"
   ]
  },
  {
   "cell_type": "markdown",
   "metadata": {
    "id": "iuLfgdR_aGRN"
   },
   "source": [
    "##### 1. Write a Pandas program to create a Pivot table and find the total fare amount class wise, gender wise."
   ]
  },
  {
   "cell_type": "code",
   "execution_count": null,
   "metadata": {
    "id": "YSdIFHOiPJME"
   },
   "outputs": [],
   "source": [
    "#### code here\n"
   ]
  },
  {
   "cell_type": "markdown",
   "metadata": {
    "id": "tYu_krfykfNn"
   },
   "source": [
    "##### 2. Write a Pandas program to create a Pivot table and find survival rate by gender."
   ]
  },
  {
   "cell_type": "code",
   "execution_count": null,
   "metadata": {
    "id": "cPeW2jg9aK9d"
   },
   "outputs": [],
   "source": [
    "### code here"
   ]
  },
  {
   "cell_type": "markdown",
   "metadata": {
    "id": "iKMEDh03kirD"
   },
   "source": [
    "###### 3. Write a Pandas to create to find the total count no of people survived pclass wise, class wise and gender wise."
   ]
  },
  {
   "cell_type": "code",
   "execution_count": null,
   "metadata": {
    "id": "R6m1Ro9XaK_0"
   },
   "outputs": [],
   "source": [
    "### code here"
   ]
  },
  {
   "cell_type": "markdown",
   "metadata": {
    "id": "K2ZCK2ZIndI3"
   },
   "source": [
    "###### 4. Write a Pandas program to create a Pivot table and calculate how many women and men were in a particular cabin class."
   ]
  },
  {
   "cell_type": "code",
   "execution_count": null,
   "metadata": {
    "id": "xqa1LzXXaLC4"
   },
   "outputs": [],
   "source": [
    "###  code here"
   ]
  },
  {
   "cell_type": "markdown",
   "metadata": {
    "id": "OPgD_NpIoiU5"
   },
   "source": [
    "##### 5. Write a Pandas program to count the number of missing values in each column."
   ]
  },
  {
   "cell_type": "code",
   "execution_count": null,
   "metadata": {
    "id": "NycLRT98aLFV"
   },
   "outputs": [],
   "source": [
    "#### code here"
   ]
  },
  {
   "cell_type": "markdown",
   "metadata": {
    "id": "mTURStYZopZ4"
   },
   "source": [
    "##### 6. Write a Pandas program to replace null values with the value from the previous row or the next row in a given DataFrame."
   ]
  },
  {
   "cell_type": "code",
   "execution_count": null,
   "metadata": {
    "id": "vI3QeLkmoolT"
   },
   "outputs": [],
   "source": [
    "### code here"
   ]
  },
  {
   "cell_type": "markdown",
   "metadata": {
    "id": "EfLZmnm7poyM"
   },
   "source": [
    "###### 7. Write a Pandas program to replace nulls, with median or mean of the specified columns in a given DataFrame."
   ]
  },
  {
   "cell_type": "code",
   "execution_count": null,
   "metadata": {
    "id": "ul7lMb8Moom8"
   },
   "outputs": [],
   "source": [
    "### code here"
   ]
  },
  {
   "cell_type": "markdown",
   "metadata": {
    "id": "gDLvNhwTCMY6"
   },
   "source": [
    "###### 8. Write a Pandas program to select first 2 rows, 2 columns and specific two columns from the dataframe."
   ]
  },
  {
   "cell_type": "code",
   "execution_count": null,
   "metadata": {
    "id": "ccvzqbuVooph"
   },
   "outputs": [],
   "source": [
    "#### code here"
   ]
  },
  {
   "cell_type": "markdown",
   "metadata": {
    "id": "v538O1TjCh2q"
   },
   "source": [
    "###### 9. Write a Pandas program to remove the duplicates from 'embark_town' column of titanic dataset."
   ]
  },
  {
   "cell_type": "code",
   "execution_count": null,
   "metadata": {
    "id": "ODv34t1hoota"
   },
   "outputs": [],
   "source": [
    "#### code here"
   ]
  },
  {
   "cell_type": "markdown",
   "metadata": {
    "id": "1qlIEVUbCwHZ"
   },
   "source": [
    "###### 10. Write a Pandas program to find out the survived is 1 details by the 'Southampton' in who is the 'child' from dataset."
   ]
  },
  {
   "cell_type": "code",
   "execution_count": null,
   "metadata": {
    "id": "oQCGZ9yeooxV"
   },
   "outputs": [],
   "source": [
    "### code here"
   ]
  },
  {
   "cell_type": "markdown",
   "metadata": {
    "id": "qtJ0lIN4Fz0D"
   },
   "source": [
    "###### 11. Write a Pandas program to filter all records starting from the 2nd row, access every 5th row from the dataframe."
   ]
  },
  {
   "cell_type": "code",
   "execution_count": null,
   "metadata": {
    "id": "giKA3PuUaLHw"
   },
   "outputs": [],
   "source": [
    "### code here"
   ]
  },
  {
   "cell_type": "markdown",
   "metadata": {
    "id": "Rva2fqu0H85r"
   },
   "source": [
    "###### 12. Write a Pandas program to filter those records where embarked matches with multiple values (C, Q) from the dataset."
   ]
  },
  {
   "cell_type": "code",
   "execution_count": null,
   "metadata": {
    "id": "HGIAuFw_H8ZW"
   },
   "outputs": [],
   "source": [
    "#### code here"
   ]
  }
 ],
 "metadata": {
  "colab": {
   "name": "pandas_assignment_day_2.ipynb",
   "provenance": []
  },
  "kernelspec": {
   "display_name": "Python 3 (ipykernel)",
   "language": "python",
   "name": "python3"
  },
  "language_info": {
   "codemirror_mode": {
    "name": "ipython",
    "version": 3
   },
   "file_extension": ".py",
   "mimetype": "text/x-python",
   "name": "python",
   "nbconvert_exporter": "python",
   "pygments_lexer": "ipython3",
   "version": "3.9.7"
  }
 },
 "nbformat": 4,
 "nbformat_minor": 1
}
